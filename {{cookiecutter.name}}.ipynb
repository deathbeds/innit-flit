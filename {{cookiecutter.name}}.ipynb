{
 "cells": [
  {
   "cell_type": "code",
   "execution_count": null,
   "metadata": {},
   "outputs": [],
   "source": [
    "\"\"\"{{cookiecutter.description}}\"\"\"\n",
    "__version__ = \"{{cookiecutter.version}}\""
   ]
  },
  {
   "cell_type": "code",
   "execution_count": null,
   "metadata": {},
   "outputs": [],
   "source": [
    "if __name__ == '__main__':\n",
    "    if '__file__' not in locals():\n",
    "        !jupyter nbconvert --to python --TemplateExporter.exclude_input_prompt=True {{cookiecutter.name}}.ipynb\n",
    "        !black {{cookiecutter.cookiecutter.name}}.py\n",
    "        !isort {{cookiecutter.cookiecutter.name}}.py"
   ]
  }
 ],
 "metadata": {
  "kernelspec": {
   "display_name": "Python 3",
   "language": "python",
   "name": "python3"
  },
  "language_info": {
   "codemirror_mode": {
    "name": "ipython",
    "version": 3
   },
   "file_extension": ".py",
   "mimetype": "text/x-python",
   "name": "python",
   "nbconvert_exporter": "python",
   "pygments_lexer": "ipython3",
   "version": "3.7.3"
  }
 },
 "nbformat": 4,
 "nbformat_minor": 4
}